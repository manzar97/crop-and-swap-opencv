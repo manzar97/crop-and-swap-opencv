{
 "cells": [
  {
   "cell_type": "code",
   "execution_count": 1,
   "id": "002804c0",
   "metadata": {},
   "outputs": [],
   "source": [
    "#task 4.2 and 4.3 to crop a part of image and swap and also make collage of it"
   ]
  },
  {
   "cell_type": "code",
   "execution_count": 2,
   "id": "f2e299b9",
   "metadata": {},
   "outputs": [],
   "source": [
    "import cv2 ,numpy\n",
    "\n",
    "#original cat image\n",
    "photo1 = cv2.imread(\"cat.jpg\")\n",
    "#resized it for ease of use\n",
    "photo1 = cv2.resize(photo1 , ( 400 ,400 ))\n",
    "cv2.imshow(\"Img1\",photo1)\n",
    "if cv2.waitKey() == 13:\n",
    "    pass\n",
    "cv2.destroyAllWindows()"
   ]
  },
  {
   "cell_type": "code",
   "execution_count": 3,
   "id": "4861b2f2",
   "metadata": {},
   "outputs": [],
   "source": [
    "#original tigers image\n",
    "photo2 = cv2.imread(\"tiger.jpg\")\n",
    "photo2 = cv2.resize(photo2 , ( 400 ,400 ))\n",
    "\n",
    "\n",
    "cv2.imshow(\"Img1\",photo2)\n",
    "if cv2.waitKey() == 13:\n",
    "    pass\n",
    "cv2.destroyAllWindows()"
   ]
  },
  {
   "cell_type": "code",
   "execution_count": 4,
   "id": "1347041d",
   "metadata": {},
   "outputs": [],
   "source": [
    "#horizontaly added image\n",
    "himg1 = numpy.hstack((photo1 , photo2))\n",
    "cv2.imshow(\"Img1\",himg1)\n",
    "if cv2.waitKey() == 13:\n",
    "    pass\n",
    "cv2.destroyAllWindows()"
   ]
  },
  {
   "cell_type": "code",
   "execution_count": 5,
   "id": "4b2755a8",
   "metadata": {},
   "outputs": [],
   "source": [
    "#verticaly added image\n",
    "vimg1 = numpy.vstack((photo1 , photo2))\n",
    "cv2.imshow(\"Img1\",vimg1)\n",
    "if cv2.waitKey() == 13:\n",
    "    pass\n",
    "cv2.destroyAllWindows()"
   ]
  },
  {
   "cell_type": "code",
   "execution_count": 6,
   "id": "6ac3f848",
   "metadata": {},
   "outputs": [
    {
     "name": "stdout",
     "output_type": "stream",
     "text": [
      "(225, 230, 3)\n",
      "(270, 255, 3)\n"
     ]
    }
   ],
   "source": [
    "#croped cats's face\n",
    "cimg1 = photo1[45:270, 35:265 , : ]\n",
    "print(cimg1.shape)\n",
    "cimg1 = cv2.resize(cimg1 , (255 , 270  ))\n",
    "cv2.imshow(\"Img1\",cimg1)\n",
    "if cv2.waitKey() == 13:\n",
    "    pass\n",
    "cv2.destroyAllWindows() \n",
    "\n",
    "print(cimg1.shape)"
   ]
  },
  {
   "cell_type": "code",
   "execution_count": 7,
   "id": "2bca05e8",
   "metadata": {},
   "outputs": [
    {
     "name": "stdout",
     "output_type": "stream",
     "text": [
      "(270, 255, 3)\n",
      "(225, 230, 3)\n"
     ]
    }
   ],
   "source": [
    "#croped tigers's face\n",
    "cimg2 = photo2[40:310, 90:345 , : ]\n",
    "print(cimg2.shape)\n",
    "cimg2 = cv2.resize(cimg2 , (230, 225  ))\n",
    "cv2.imshow(\"Img1\",cimg2)\n",
    "if cv2.waitKey() == 13:\n",
    "    pass\n",
    "cv2.destroyAllWindows() \n",
    "print(cimg2.shape)"
   ]
  },
  {
   "cell_type": "code",
   "execution_count": 8,
   "id": "12fd8ac5",
   "metadata": {},
   "outputs": [],
   "source": [
    "#put tigers face on cat's face\n",
    "finalimg1 = photo1\n",
    "finalimg1[45:270, 35:265 , : ]= cimg2[:,:,:]\n",
    " \n",
    "cv2.imshow(\"Img1\",finalimg1)\n",
    "if cv2.waitKey() == 13:\n",
    "    pass\n",
    "cv2.destroyAllWindows() \n",
    "\n",
    "cv2.destroyAllWindows()"
   ]
  },
  {
   "cell_type": "code",
   "execution_count": 9,
   "id": "6b9df3b4",
   "metadata": {},
   "outputs": [],
   "source": [
    "#put tigers face on cat's face\n",
    "finalimg2 = photo2\n",
    "finalimg2[40:310, 90:345 , : ]= cimg1[:,:,:]\n",
    "\n",
    "cv2.imshow(\"Img1\",finalimg2)\n",
    "if cv2.waitKey() == 13:\n",
    "    pass\n",
    "cv2.destroyAllWindows()"
   ]
  },
  {
   "cell_type": "code",
   "execution_count": 10,
   "id": "835b86a7",
   "metadata": {},
   "outputs": [],
   "source": [
    "himg2 = numpy.hstack(( finalimg1 , finalimg2 ))\n",
    "cv2.imshow(\"Img1\",himg2)\n",
    "if cv2.waitKey() == 13:\n",
    "    pass\n",
    "cv2.destroyAllWindows()"
   ]
  },
  {
   "cell_type": "code",
   "execution_count": 11,
   "id": "6bebb589",
   "metadata": {},
   "outputs": [],
   "source": [
    "vimg = numpy.vstack((himg1,himg2))\n",
    "cv2.imshow(\"Img1\",vimg)\n",
    "if cv2.waitKey() == 13:\n",
    "    pass\n",
    "cv2.destroyAllWindows()"
   ]
  },
  {
   "cell_type": "code",
   "execution_count": null,
   "id": "5c2d19a9",
   "metadata": {},
   "outputs": [],
   "source": []
  },
  {
   "cell_type": "code",
   "execution_count": null,
   "id": "002a856e",
   "metadata": {},
   "outputs": [],
   "source": []
  }
 ],
 "metadata": {
  "kernelspec": {
   "display_name": "Python 3",
   "language": "python",
   "name": "python3"
  },
  "language_info": {
   "codemirror_mode": {
    "name": "ipython",
    "version": 3
   },
   "file_extension": ".py",
   "mimetype": "text/x-python",
   "name": "python",
   "nbconvert_exporter": "python",
   "pygments_lexer": "ipython3",
   "version": "3.8.8"
  }
 },
 "nbformat": 4,
 "nbformat_minor": 5
}
